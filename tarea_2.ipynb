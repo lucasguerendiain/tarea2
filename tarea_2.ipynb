{
 "cells": [
  {
   "cell_type": "code",
   "execution_count": 1,
   "id": "bf819d89",
   "metadata": {},
   "outputs": [],
   "source": [
    "#Lucas Guerendiain\n",
    "#ejercicio 10\n",
    "\n",
    "import csv\n",
    "\n",
    "\n",
    "def suma (a,b):\n",
    "    \"\"\" sumo 2 variables\"\"\"\n",
    "    return int(a)+int(b)\n",
    "\n",
    "\n",
    "def calcu_promedio(notas):\n",
    "    \"\"\" con los valores, calculo el promedio \"\"\"\n",
    "    promedio = 0\n",
    "    for valor in notas:\n",
    "        promedio += valor\n",
    "    return int(promedio / len(notas))"
   ]
  },
  {
   "cell_type": "markdown",
   "id": "a561222c",
   "metadata": {},
   "source": [
    "* csv para poder iterar los archivos\n",
    "* suma está para que quede un poco menos feo el codigo"
   ]
  },
  {
   "cell_type": "code",
   "execution_count": 3,
   "id": "29b3674e",
   "metadata": {},
   "outputs": [],
   "source": [
    "nombres = open('nombres_1.txt', 'r')\n",
    "eval1 = open('eval1.txt', 'r')\n",
    "eval2 = open('eval2.txt', 'r')\n",
    "\n",
    "csvreader = csv.reader(nombres, delimiter=',')\n",
    "reader2 = csv.reader(eval1, delimiter=',')\n",
    "reader3 = csv.reader(eval2, delimiter=',')\n"
   ]
  },
  {
   "cell_type": "code",
   "execution_count": 4,
   "id": "9e15c6bc",
   "metadata": {},
   "outputs": [],
   "source": [
    "dicci={}\n",
    "for linea in csvreader:\n",
    "    itera_nota1 = next(reader2)\n",
    "    itera_nota2 = next(reader3)\n",
    "    dicci[linea[0].strip().split(\"'\")[1]] = suma(itera_nota1[0],\n",
    "            itera_nota2[0])"
   ]
  },
  {
   "cell_type": "markdown",
   "id": "d8fb9462",
   "metadata": {},
   "source": [
    "* doy por hecho que los 3 archivos son igual de largos y no están vacios.\n",
    "* itero usando de referencia los nombres y lo dejo en un dicionario por si querés saber la nota de un alumno en particular"
   ]
  },
  {
   "cell_type": "code",
   "execution_count": 5,
   "id": "b9d81203",
   "metadata": {},
   "outputs": [
    {
     "name": "stdout",
     "output_type": "stream",
     "text": [
      "('CESAR', 78)\n",
      "('Diego', 33)\n",
      "('Dolores', 53)\n",
      "('DYLAN', 74)\n",
      "('ELIANA', 13)\n",
      "('Emanuel', 48)\n",
      "('GONZALO', 76)\n",
      "('Gregorio', 90)\n",
      "('Ignacio', 21)\n",
      "('Jonathan', 62)\n",
      "('Jorge', 79)\n",
      "('JUAN', 68)\n",
      "('Julian', 87)\n",
      "('Leonel', 55)\n",
      "('Nicolás', 65)\n",
      "('NICOLÁS', 22)\n",
      "('Priscila', 24)\n",
      "('Yanina', 84)\n",
      "el promedio es: 93\n"
     ]
    }
   ],
   "source": [
    "filtracion = list(filter(lambda x: x[1] <= calcu_promedio(dicci.values()),\n",
    "    dicci.items()))\n",
    "\n",
    "print('\\n'.join(map(str, filtracion)))\n",
    "print(f\"el promedio es: {calcu_promedio(dicci.values())}\")\n",
    "\n",
    "nombres.close()\n",
    "eval1.close()\n",
    "eval2.close()"
   ]
  },
  {
   "cell_type": "markdown",
   "id": "3d3b1a5c",
   "metadata": {},
   "source": [
    "* filtro usando los valores para ver quien tiene menos nota que el promedio, dejo el item entero para que puedan ver la nota.\n",
    "* desconozco si la parte del lambda está bien indentada, tampoco sé si queda más legible usando una variable en vez del llamado a la función.\n",
    "* los print son para que quede todo mas lindo y transparente"
   ]
  }
 ],
 "metadata": {
  "kernelspec": {
   "display_name": "Python 3 (ipykernel)",
   "language": "python",
   "name": "python3"
  },
  "language_info": {
   "codemirror_mode": {
    "name": "ipython",
    "version": 3
   },
   "file_extension": ".py",
   "mimetype": "text/x-python",
   "name": "python",
   "nbconvert_exporter": "python",
   "pygments_lexer": "ipython3",
   "version": "3.9.2"
  }
 },
 "nbformat": 4,
 "nbformat_minor": 5
}
